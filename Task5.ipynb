{
 "cells": [
  {
   "cell_type": "code",
   "execution_count": 4,
   "id": "7b1c018a",
   "metadata": {},
   "outputs": [],
   "source": [
    "import pandas as pd\n",
    "import numpy as np\n",
    "import statistics\n",
    "import seaborn as sns\n",
    "import matplotlib.pyplot as plt\n",
    "from subprocess import check_output\n",
    "from scipy import stats\n",
    "from sklearn import metrics"
   ]
  },
  {
   "cell_type": "code",
   "execution_count": 7,
   "id": "5d7c4573",
   "metadata": {},
   "outputs": [],
   "source": [
    "data = pd.read_csv(\"data.csv\")"
   ]
  },
  {
   "cell_type": "code",
   "execution_count": 9,
   "id": "24e39062",
   "metadata": {},
   "outputs": [
    {
     "data": {
      "text/html": [
       "<div>\n",
       "<style scoped>\n",
       "    .dataframe tbody tr th:only-of-type {\n",
       "        vertical-align: middle;\n",
       "    }\n",
       "\n",
       "    .dataframe tbody tr th {\n",
       "        vertical-align: top;\n",
       "    }\n",
       "\n",
       "    .dataframe thead th {\n",
       "        text-align: right;\n",
       "    }\n",
       "</style>\n",
       "<table border=\"1\" class=\"dataframe\">\n",
       "  <thead>\n",
       "    <tr style=\"text-align: right;\">\n",
       "      <th></th>\n",
       "      <th>Row ID</th>\n",
       "      <th>Year</th>\n",
       "      <th>Department Title</th>\n",
       "      <th>Payroll Department</th>\n",
       "      <th>Record Number</th>\n",
       "      <th>Job Class Title</th>\n",
       "      <th>Employment Type</th>\n",
       "      <th>Hourly or Event Rate</th>\n",
       "      <th>Projected Annual Salary</th>\n",
       "      <th>Q1 Payments</th>\n",
       "      <th>...</th>\n",
       "      <th>MOU Title</th>\n",
       "      <th>FMS Department</th>\n",
       "      <th>Job Class</th>\n",
       "      <th>Pay Grade</th>\n",
       "      <th>Average Health Cost</th>\n",
       "      <th>Average Dental Cost</th>\n",
       "      <th>Average Basic Life</th>\n",
       "      <th>Average Benefit Cost</th>\n",
       "      <th>Benefits Plan</th>\n",
       "      <th>Job Class Link</th>\n",
       "    </tr>\n",
       "  </thead>\n",
       "  <tbody>\n",
       "    <tr>\n",
       "      <th>0</th>\n",
       "      <td>111391</td>\n",
       "      <td>2014</td>\n",
       "      <td>Water And Power (DWP)</td>\n",
       "      <td>NaN</td>\n",
       "      <td>1412316577</td>\n",
       "      <td>Commercial Service Representative</td>\n",
       "      <td>Full Time</td>\n",
       "      <td>NaN</td>\n",
       "      <td>$70386.48</td>\n",
       "      <td>$16129.89</td>\n",
       "      <td>...</td>\n",
       "      <td>NaN</td>\n",
       "      <td>98</td>\n",
       "      <td>1230</td>\n",
       "      <td>NaN</td>\n",
       "      <td>$16842.08</td>\n",
       "      <td>$1282.61</td>\n",
       "      <td>$0.00</td>\n",
       "      <td>$18124.69</td>\n",
       "      <td>DWP</td>\n",
       "      <td>http://per.lacity.org/perspecs/1230.pdf</td>\n",
       "    </tr>\n",
       "    <tr>\n",
       "      <th>1</th>\n",
       "      <td>31732</td>\n",
       "      <td>2013</td>\n",
       "      <td>Police (LAPD)</td>\n",
       "      <td>4301.0</td>\n",
       "      <td>432728338</td>\n",
       "      <td>Police Officer I</td>\n",
       "      <td>Full Time</td>\n",
       "      <td>$25.12</td>\n",
       "      <td>$52450.56</td>\n",
       "      <td>$11331.00</td>\n",
       "      <td>...</td>\n",
       "      <td>POLICE OFFICERS UNIT</td>\n",
       "      <td>70</td>\n",
       "      <td>2214</td>\n",
       "      <td>A</td>\n",
       "      <td>$11651.40</td>\n",
       "      <td>$898.08</td>\n",
       "      <td>$191.04</td>\n",
       "      <td>$12740.52</td>\n",
       "      <td>Police</td>\n",
       "      <td>http://per.lacity.org/perspecs/2214.pdf</td>\n",
       "    </tr>\n",
       "    <tr>\n",
       "      <th>2</th>\n",
       "      <td>27697</td>\n",
       "      <td>2013</td>\n",
       "      <td>Police (LAPD)</td>\n",
       "      <td>4301.0</td>\n",
       "      <td>97182506</td>\n",
       "      <td>Police Officer II</td>\n",
       "      <td>Full Time</td>\n",
       "      <td>$42.77</td>\n",
       "      <td>$89303.76</td>\n",
       "      <td>$20036.32</td>\n",
       "      <td>...</td>\n",
       "      <td>POLICE OFFICERS UNIT</td>\n",
       "      <td>70</td>\n",
       "      <td>2214</td>\n",
       "      <td>2</td>\n",
       "      <td>$11651.40</td>\n",
       "      <td>$898.08</td>\n",
       "      <td>$191.04</td>\n",
       "      <td>$12740.52</td>\n",
       "      <td>Police</td>\n",
       "      <td>http://per.lacity.org/perspecs/2214.pdf</td>\n",
       "    </tr>\n",
       "    <tr>\n",
       "      <th>3</th>\n",
       "      <td>14136</td>\n",
       "      <td>2013</td>\n",
       "      <td>Harbor (Port of LA)</td>\n",
       "      <td>3201.0</td>\n",
       "      <td>950136941</td>\n",
       "      <td>Senior Security Officer</td>\n",
       "      <td>Full Time</td>\n",
       "      <td>$28.75</td>\n",
       "      <td>$60028.96</td>\n",
       "      <td>$15793.88</td>\n",
       "      <td>...</td>\n",
       "      <td>SUPV BLUE COLLAR</td>\n",
       "      <td>42</td>\n",
       "      <td>3184</td>\n",
       "      <td>0</td>\n",
       "      <td>$10710.24</td>\n",
       "      <td>$405.24</td>\n",
       "      <td>$11.40</td>\n",
       "      <td>$11126.88</td>\n",
       "      <td>City</td>\n",
       "      <td>http://per.lacity.org/perspecs/3184.pdf</td>\n",
       "    </tr>\n",
       "    <tr>\n",
       "      <th>4</th>\n",
       "      <td>91896</td>\n",
       "      <td>2014</td>\n",
       "      <td>Public Works - Sanitation</td>\n",
       "      <td>7024.0</td>\n",
       "      <td>3230003445</td>\n",
       "      <td>Senior Clerk Typist</td>\n",
       "      <td>Full Time</td>\n",
       "      <td>$30.92</td>\n",
       "      <td>$64553.13</td>\n",
       "      <td>$14700.00</td>\n",
       "      <td>...</td>\n",
       "      <td>CLERICAL UNIT</td>\n",
       "      <td>82</td>\n",
       "      <td>1368</td>\n",
       "      <td>0</td>\n",
       "      <td>$11000.40</td>\n",
       "      <td>$409.68</td>\n",
       "      <td>$11.40</td>\n",
       "      <td>$11421.48</td>\n",
       "      <td>City</td>\n",
       "      <td>http://per.lacity.org/perspecs/1368.pdf</td>\n",
       "    </tr>\n",
       "  </tbody>\n",
       "</table>\n",
       "<p>5 rows × 35 columns</p>\n",
       "</div>"
      ],
      "text/plain": [
       "   Row ID  Year           Department Title  Payroll Department Record Number  \\\n",
       "0  111391  2014      Water And Power (DWP)                 NaN    1412316577   \n",
       "1   31732  2013              Police (LAPD)              4301.0     432728338   \n",
       "2   27697  2013              Police (LAPD)              4301.0      97182506   \n",
       "3   14136  2013        Harbor (Port of LA)              3201.0     950136941   \n",
       "4   91896  2014  Public Works - Sanitation              7024.0    3230003445   \n",
       "\n",
       "                     Job Class Title Employment Type Hourly or Event Rate  \\\n",
       "0  Commercial Service Representative       Full Time                  NaN   \n",
       "1                   Police Officer I       Full Time               $25.12   \n",
       "2                  Police Officer II       Full Time               $42.77   \n",
       "3            Senior Security Officer       Full Time               $28.75   \n",
       "4                Senior Clerk Typist       Full Time               $30.92   \n",
       "\n",
       "  Projected Annual Salary Q1 Payments  ...             MOU Title  \\\n",
       "0               $70386.48   $16129.89  ...                   NaN   \n",
       "1               $52450.56   $11331.00  ...  POLICE OFFICERS UNIT   \n",
       "2               $89303.76   $20036.32  ...  POLICE OFFICERS UNIT   \n",
       "3               $60028.96   $15793.88  ...      SUPV BLUE COLLAR   \n",
       "4               $64553.13   $14700.00  ...         CLERICAL UNIT   \n",
       "\n",
       "  FMS Department Job Class Pay Grade Average Health Cost Average Dental Cost  \\\n",
       "0             98      1230       NaN           $16842.08            $1282.61   \n",
       "1             70      2214         A           $11651.40             $898.08   \n",
       "2             70      2214         2           $11651.40             $898.08   \n",
       "3             42      3184         0           $10710.24             $405.24   \n",
       "4             82      1368         0           $11000.40             $409.68   \n",
       "\n",
       "  Average Basic Life Average Benefit Cost Benefits Plan  \\\n",
       "0              $0.00            $18124.69           DWP   \n",
       "1            $191.04            $12740.52        Police   \n",
       "2            $191.04            $12740.52        Police   \n",
       "3             $11.40            $11126.88          City   \n",
       "4             $11.40            $11421.48          City   \n",
       "\n",
       "                            Job Class Link  \n",
       "0  http://per.lacity.org/perspecs/1230.pdf  \n",
       "1  http://per.lacity.org/perspecs/2214.pdf  \n",
       "2  http://per.lacity.org/perspecs/2214.pdf  \n",
       "3  http://per.lacity.org/perspecs/3184.pdf  \n",
       "4  http://per.lacity.org/perspecs/1368.pdf  \n",
       "\n",
       "[5 rows x 35 columns]"
      ]
     },
     "execution_count": 9,
     "metadata": {},
     "output_type": "execute_result"
    }
   ],
   "source": [
    "data.head()"
   ]
  },
  {
   "cell_type": "markdown",
   "id": "b1e093f3",
   "metadata": {},
   "source": [
    "# Data Cleansing"
   ]
  },
  {
   "cell_type": "code",
   "execution_count": 13,
   "id": "f56b2bac",
   "metadata": {},
   "outputs": [],
   "source": [
    "data = data[pd.notnull(data['Payroll Department'])]\n",
    "data.rename(columns={'Projected Annual Salary' : 'Annual_sal'}, inplace = True)\n",
    "data.rename(columns={'Job Class Title' : 'Job_title'}, inplace = True)\n",
    "data.rename(columns={'Base Pay' : 'Base_Pay'}, inplace = True)"
   ]
  },
  {
   "cell_type": "code",
   "execution_count": 15,
   "id": "830e9b4b",
   "metadata": {},
   "outputs": [
    {
     "name": "stderr",
     "output_type": "stream",
     "text": [
      "<ipython-input-15-d6eba56da4eb>:5: FutureWarning: The default value of regex will change from True to False in a future version. In addition, single character regular expressions will*not* be treated as literal strings when regex=True.\n",
      "  data[i] = data[i].str.replace('$','')\n"
     ]
    }
   ],
   "source": [
    "for i in ['Annual_sal','Q1 Payments','Q2 Payments','Q3 Payments','Q4 Payments','Payments Over Base Pay',\n",
    "          'Total Payments','Base_Pay','Permanent Bonus Pay','Longevity Bonus Pay','Temporary Bonus Pay','Overtime Pay',\n",
    "          'Other Pay & Adjustments','Other Pay (Payroll Explorer)','Average Health Cost','Average Dental Cost',\n",
    "          'Average Basic Life','Average Benefit Cost']:\n",
    "    data[i] = data[i].str.replace('$','')"
   ]
  },
  {
   "cell_type": "markdown",
   "id": "b66afd4e",
   "metadata": {},
   "source": [
    "# Outlier removal"
   ]
  },
  {
   "cell_type": "code",
   "execution_count": 16,
   "id": "b5af399f",
   "metadata": {},
   "outputs": [],
   "source": [
    "data = data[data.Annual_sal != 0]  \n",
    "data = data[data.Base_Pay != 0]\n",
    "data.Annual_sal = data.Annual_sal.astype(float)\n",
    "data.Base_Pay = data.Base_Pay.astype(float)"
   ]
  },
  {
   "cell_type": "code",
   "execution_count": 37,
   "id": "e690fe0b",
   "metadata": {},
   "outputs": [
    {
     "name": "stderr",
     "output_type": "stream",
     "text": [
      "C:\\ProgramData\\Anaconda3\\lib\\site-packages\\seaborn\\distributions.py:2557: FutureWarning: `distplot` is a deprecated function and will be removed in a future version. Please adapt your code to use either `displot` (a figure-level function with similar flexibility) or `histplot` (an axes-level function for histograms).\n",
      "  warnings.warn(msg, FutureWarning)\n"
     ]
    },
    {
     "data": {
      "text/plain": [
       "<AxesSubplot:xlabel='Annual_sal', ylabel='Density'>"
      ]
     },
     "execution_count": 37,
     "metadata": {},
     "output_type": "execute_result"
    },
    {
     "data": {
      "image/png": "[encoded data removed]",
      "text/plain": [
       "<Figure size 936x504 with 1 Axes>"
      ]
     },
     "metadata": {
      "needs_background": "light"
     },
     "output_type": "display_data"
    }
   ],
   "source": [
    "plt.figure(figsize = (13,7))\n",
    "sns.distplot(data.Annual_sal)"
   ]
  },
  {
   "cell_type": "markdown",
   "id": "f7afbb5c",
   "metadata": {},
   "source": [
    "# Creating different Sample from the population"
   ]
  },
  {
   "cell_type": "code",
   "execution_count": 25,
   "id": "cda4435c",
   "metadata": {},
   "outputs": [],
   "source": [
    "payroll_2015 = data[data.Year ==2015]\n",
    "payroll_2016 = data[data.Year ==2016]"
   ]
  },
  {
   "cell_type": "markdown",
   "id": "3732bc4f",
   "metadata": {},
   "source": [
    "# Calculating the Population Parameters"
   ]
  },
  {
   "cell_type": "code",
   "execution_count": 26,
   "id": "f6e15859",
   "metadata": {},
   "outputs": [
    {
     "name": "stdout",
     "output_type": "stream",
     "text": [
      "Population Mean: 76046.39152505301\n",
      "Population Standard Deviation: 34232.25489729045\n"
     ]
    }
   ],
   "source": [
    "pop_mean_2015 = payroll_2015['Annual_sal'].mean()\n",
    "pop_std_2015 = statistics.stdev(payroll_2015.Annual_sal)\n",
    "print(\"Population Mean: \"+str(pop_mean_2015))\n",
    "print(\"Population Standard Deviation: \"+str(pop_std_2015))"
   ]
  },
  {
   "cell_type": "markdown",
   "id": "05d19028",
   "metadata": {},
   "source": [
    "# Calculating the Sample Parameters"
   ]
  },
  {
   "cell_type": "code",
   "execution_count": 22,
   "id": "4ad93f9f",
   "metadata": {},
   "outputs": [
    {
     "name": "stdout",
     "output_type": "stream",
     "text": [
      "Population Mean: 78711.19987225177\n",
      "Sample Mean: 78692.03696322713\n",
      "Sample Standard Deviation: 33505.24227062209\n"
     ]
    }
   ],
   "source": [
    "print(\"Population Mean: \"+str(payroll_2016['Annual_sal'].mean()))\n",
    "payroll_2016_sample = payroll_2016.sample(frac=0.10)\n",
    "sample_mean_2016 = payroll_2016_sample['Annual_sal'].mean()\n",
    "print(\"Sample Mean: \"+str(sample_mean_2016))\n",
    "sample_std_2016 = statistics.stdev(payroll_2016_sample.Annual_sal)\n",
    "print(\"Sample Standard Deviation: \"+str(sample_std_2016))"
   ]
  },
  {
   "cell_type": "markdown",
   "id": "7e907b7f",
   "metadata": {},
   "source": [
    "# Hypothesis Testing"
   ]
  },
  {
   "cell_type": "raw",
   "id": "2d3b47ab",
   "metadata": {},
   "source": [
    "Normal distribution\n",
    "\n",
    "Null Hypothesis : Pay does not increase in 2016\n",
    "Alternate Hypothesis: It increases\n",
    "Population parameters: Mean = pop_mean_2015, standard deviation = pop_std_2015\n",
    "Sample parameters : Mean = sample_mean_2016, standard deviation = sample_std_2016"
   ]
  },
  {
   "cell_type": "code",
   "execution_count": 28,
   "id": "f5ebe37b",
   "metadata": {},
   "outputs": [
    {
     "name": "stdout",
     "output_type": "stream",
     "text": [
      "7.455965815263048\n"
     ]
    }
   ],
   "source": [
    "import math\n",
    "zscore_critical = 1.65  \n",
    "zscore_test_stat = ((sample_mean_2016 - pop_mean_2015)*math.sqrt(8916))/sample_std_2016\n",
    "print(zscore_test_stat)"
   ]
  },
  {
   "cell_type": "raw",
   "id": "bc6e144a",
   "metadata": {},
   "source": [
    "Conclusion: As the test statistics fall into the rejection region the null hypothesis is rejected\n",
    "\n",
    "and it can be concluded that the Annual salaries increase in 2016.\n",
    "However, we will first check for the Type 1 and Type 2 Errors\n",
    "\n",
    "Type 1 type 2 hypothesis error\n",
    "In statistical hypothesis testing, a type I error is the incorrect rejection of a true null hypothesis (a \"false positive\"), while a type II error is incorrectly retaining a false null hypothesis (a \"false negative\")."
   ]
  },
  {
   "cell_type": "code",
   "execution_count": 29,
   "id": "dfea5f0d",
   "metadata": {},
   "outputs": [
    {
     "name": "stdout",
     "output_type": "stream",
     "text": [
      "0.07937359898019851\n"
     ]
    }
   ],
   "source": [
    "pop_mean_2016 = payroll_2016['Annual_sal'].mean()\n",
    "pop_std_2016 = statistics.stdev(payroll_2016.Annual_sal)\n",
    "\n",
    "zscore_error = ((pop_mean_2016 - pop_mean_2015)/pop_std_2016)\n",
    "print(zscore_error)"
   ]
  },
  {
   "cell_type": "raw",
   "id": "f196ce95",
   "metadata": {},
   "source": [
    "# We can clearly see that we encountered a Type 1 error as the population mean is well within acceptable region\n",
    "\n",
    "Student T-distribution\n",
    "Null Hypothesis: pay does not increase in 2016\n",
    "Alternate Hypothesis: it increases\n",
    "Population parameters: Mean = pop_mean_2015, standard deviation = pop_std_2015\n",
    "Sample parameters : Mean = sample_mean_2016, standard deviation = sample_std_2016"
   ]
  },
  {
   "cell_type": "markdown",
   "id": "2d551eaa",
   "metadata": {},
   "source": [
    "# F Distribution and ANOVA"
   ]
  },
  {
   "cell_type": "code",
   "execution_count": 35,
   "id": "8f2353ac",
   "metadata": {},
   "outputs": [
    {
     "name": "stdout",
     "output_type": "stream",
     "text": [
      "Sample Mean 2015 70940.66028571427\n",
      "Sample_Mean_2016= 30418.422571428568\n"
     ]
    }
   ],
   "source": [
    "payroll_2015_elec = payroll_2015[payroll_2015.Job_title == 'Electrician']\n",
    "payroll_2016_elec = payroll_2016[payroll_2016.Job_title == 'Electrician']\n",
    "sample_elec_2015 = payroll_2015_elec.sample(frac=0.41)\n",
    "sample_elec_mean_2015 = sample_elec_2015['Base_Pay'].mean()\n",
    "print(\"Sample Mean 2015 \"+str(sample_elec_mean_2015))\n",
    "sample_elec_2016 = payroll_2016_elec.sample(frac=0.22)\n",
    "sample_elec_mean_2016 = sample_elec_2016['Base_Pay'].mean()\n",
    "print(\"Sample_Mean_2016= \"+str(sample_elec_mean_2016))\n",
    "sam_1 = sample_elec_2015.Base_Pay\n",
    "sam_2 = sample_elec_2016.Base_Pay"
   ]
  },
  {
   "cell_type": "markdown",
   "id": "d4b9860e",
   "metadata": {},
   "source": [
    "# Calculating the test statistics"
   ]
  },
  {
   "cell_type": "code",
   "execution_count": 36,
   "id": "287be4fc",
   "metadata": {},
   "outputs": [
    {
     "name": "stdout",
     "output_type": "stream",
     "text": [
      "F value: 80.10212410020618\n",
      "P value: 4.155720546917307e-13 \n",
      "\n"
     ]
    }
   ],
   "source": [
    "f, p = stats.f_oneway(sam_1, sam_2)\n",
    "print ('F value:', f)\n",
    "print ('P value:', p, '\\n')"
   ]
  },
  {
   "cell_type": "raw",
   "id": "93ba030d",
   "metadata": {},
   "source": [
    "# P value is very low, hence null hypothesis is rejected"
   ]
  }
 ],
 "metadata": {
  "kernelspec": {
   "display_name": "Python 3",
   "language": "python",
   "name": "python3"
  },
  "language_info": {
   "codemirror_mode": {
    "name": "ipython",
    "version": 3
   },
   "file_extension": ".py",
   "mimetype": "text/x-python",
   "name": "python",
   "nbconvert_exporter": "python",
   "pygments_lexer": "ipython3",
   "version": "3.8.8"
  }
 },
 "nbformat": 4,
 "nbformat_minor": 5
}
